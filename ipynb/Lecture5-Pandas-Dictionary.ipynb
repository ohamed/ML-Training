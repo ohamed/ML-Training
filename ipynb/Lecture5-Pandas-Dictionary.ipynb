{
 "cells": [
  {
   "cell_type": "markdown",
   "id": "fa75012f-78c1-40e1-af00-74bdaff4ab3a",
   "metadata": {},
   "source": [
    "## Pandas\n",
    "- This Jupyter Notebook (NB) demonstrates how to create a Pandas DataFrame from a Python dictionary.\n",
    "- <a href=\"https://www.w3schools.com/python/python_dictionaries.asp\" target=\"_blank\">Python Dictionaries</a>"
   ]
  },
  {
   "cell_type": "code",
   "execution_count": 1,
   "id": "52012397-88d5-4410-b586-941e0ed14802",
   "metadata": {},
   "outputs": [],
   "source": [
    "import pandas as pd\n",
    "import numpy as np"
   ]
  },
  {
   "cell_type": "code",
   "execution_count": 2,
   "id": "8cc84abc-4474-47f8-98aa-97eadce27d55",
   "metadata": {},
   "outputs": [],
   "source": [
    "df = pd.DataFrame({\n",
    "    \"A\": [1, np.nan, 3],\n",
    "    \"B\": [4, 5, np.nan],\n",
    "    \"C\": [7, 8, 9]\n",
    "})"
   ]
  },
  {
   "cell_type": "code",
   "execution_count": 3,
   "id": "d6fa8fba-a79d-4378-b821-aef7289c716d",
   "metadata": {},
   "outputs": [
    {
     "data": {
      "text/html": [
       "<div>\n",
       "<style scoped>\n",
       "    .dataframe tbody tr th:only-of-type {\n",
       "        vertical-align: middle;\n",
       "    }\n",
       "\n",
       "    .dataframe tbody tr th {\n",
       "        vertical-align: top;\n",
       "    }\n",
       "\n",
       "    .dataframe thead th {\n",
       "        text-align: right;\n",
       "    }\n",
       "</style>\n",
       "<table border=\"1\" class=\"dataframe\">\n",
       "  <thead>\n",
       "    <tr style=\"text-align: right;\">\n",
       "      <th></th>\n",
       "      <th>A</th>\n",
       "      <th>B</th>\n",
       "      <th>C</th>\n",
       "    </tr>\n",
       "  </thead>\n",
       "  <tbody>\n",
       "    <tr>\n",
       "      <th>0</th>\n",
       "      <td>1.0</td>\n",
       "      <td>4.0</td>\n",
       "      <td>7</td>\n",
       "    </tr>\n",
       "    <tr>\n",
       "      <th>1</th>\n",
       "      <td>NaN</td>\n",
       "      <td>5.0</td>\n",
       "      <td>8</td>\n",
       "    </tr>\n",
       "    <tr>\n",
       "      <th>2</th>\n",
       "      <td>3.0</td>\n",
       "      <td>NaN</td>\n",
       "      <td>9</td>\n",
       "    </tr>\n",
       "  </tbody>\n",
       "</table>\n",
       "</div>"
      ],
      "text/plain": [
       "     A    B  C\n",
       "0  1.0  4.0  7\n",
       "1  NaN  5.0  8\n",
       "2  3.0  NaN  9"
      ]
     },
     "execution_count": 3,
     "metadata": {},
     "output_type": "execute_result"
    }
   ],
   "source": [
    "df"
   ]
  },
  {
   "cell_type": "code",
   "execution_count": 4,
   "id": "0b7239ed-b3b4-4889-bd62-927732fa2331",
   "metadata": {},
   "outputs": [
    {
     "name": "stdout",
     "output_type": "stream",
     "text": [
      "axis=0 (column-wise):\n",
      "A     True\n",
      "B     True\n",
      "C    False\n",
      "dtype: bool\n"
     ]
    }
   ],
   "source": [
    "print(\"axis=0 (column-wise):\")\n",
    "print(df.isnull().any(axis=0))"
   ]
  },
  {
   "cell_type": "code",
   "execution_count": 5,
   "id": "7207d467-f14f-44c2-9401-ab9537bdfc82",
   "metadata": {},
   "outputs": [
    {
     "name": "stdout",
     "output_type": "stream",
     "text": [
      "\n",
      "axis=1 (row-wise):\n",
      "0    False\n",
      "1     True\n",
      "2     True\n",
      "dtype: bool\n"
     ]
    }
   ],
   "source": [
    "print(\"\\naxis=1 (row-wise):\")\n",
    "print(df.isnull().any(axis=1))"
   ]
  },
  {
   "cell_type": "code",
   "execution_count": 6,
   "id": "00f6e3b7-57ba-43d7-a717-ec28845f752d",
   "metadata": {},
   "outputs": [
    {
     "data": {
      "text/plain": [
       "A     4.0\n",
       "B     9.0\n",
       "C    24.0\n",
       "dtype: float64"
      ]
     },
     "execution_count": 6,
     "metadata": {},
     "output_type": "execute_result"
    }
   ],
   "source": [
    "## column-wise: adds values in each column.\n",
    "df.sum(axis=0)"
   ]
  },
  {
   "cell_type": "code",
   "execution_count": 7,
   "id": "bec9eee0-b5bf-4f3b-bade-bfb37a2996eb",
   "metadata": {},
   "outputs": [
    {
     "data": {
      "text/plain": [
       "0    12.0\n",
       "1    13.0\n",
       "2    12.0\n",
       "dtype: float64"
      ]
     },
     "execution_count": 7,
     "metadata": {},
     "output_type": "execute_result"
    }
   ],
   "source": [
    "## row-wise adds values in each row.\n",
    "df.sum(axis=1)"
   ]
  },
  {
   "cell_type": "code",
   "execution_count": null,
   "id": "5731c4dc-052f-4d23-9d50-6751a289fb55",
   "metadata": {},
   "outputs": [],
   "source": []
  }
 ],
 "metadata": {
  "kernelspec": {
   "display_name": "Python 3 (ipykernel)",
   "language": "python",
   "name": "python3"
  },
  "language_info": {
   "codemirror_mode": {
    "name": "ipython",
    "version": 3
   },
   "file_extension": ".py",
   "mimetype": "text/x-python",
   "name": "python",
   "nbconvert_exporter": "python",
   "pygments_lexer": "ipython3",
   "version": "3.11.9"
  }
 },
 "nbformat": 4,
 "nbformat_minor": 5
}
